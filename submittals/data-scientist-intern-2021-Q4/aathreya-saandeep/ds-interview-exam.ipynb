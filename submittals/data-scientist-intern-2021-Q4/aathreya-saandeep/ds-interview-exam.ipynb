{
 "cells": [
  {
   "cell_type": "markdown",
   "source": [
    "<div class=\"clearfix\" style=\"padding: 10px; padding-left: 0px\">\n",
    "<a href=\"http://bombora.com\"><img src=\"https://app.box.com/shared/static/e0j9v1xjmubit0inthhgv3llwnoansjp.png\" width=\"200px\" class=\"pull-right\" style=\"display: inline-block; margin: 5px; vertical-align: middle;\"></a>\n",
    "<h1> Bombora Data Science: <br> *Interview Exam* </h1>\n",
    "</div>\n",
    "\n",
    "<img width=\"200px\" src=\"https://app.box.com/shared/static/15slg1mvjd1zldbg3xkj9picjkmhzpa5.png\">"
   ],
   "metadata": {}
  },
  {
   "cell_type": "markdown",
   "source": [
    "---\n",
    "# Welcome\n",
    "\n",
    "Welcome! This notebook contains interview exam questions referenced in the *Instructions* section in the `README.md`—please read that first, *before* attempting to answer questions here.\n",
    "\n",
    "<div class=\"alert alert-info\" role=\"alert\" style=\"margin: 10px\">\n",
    "<p style=\"font-weight:bold\">ADVICE</p>\n",
    "<p>*Do not* read these questions, and panic, *before* reading the instructions in `README.md`.</p>\n",
    "</div>\n",
    "\n",
    "<div class=\"alert alert-warning\" role=\"alert\" style=\"margin: 10px\">\n",
    "<p style=\"font-weight:bold\">WARNING</p>\n",
    "\n",
    "<p>If using <a href=\"https://try.jupyter.org\">try.jupyter.org</a> do not rely on the server for anything you want to last - your server will be <span style=\"font-weight:bold\">deleted after 10 minutes of inactivity</span>. Save often and rember download notebook when you step away (you can always re-upload and start again)!</p>\n",
    "</div>\n",
    "\n",
    "\n",
    "## Have fun!\n",
    "\n",
    "Regardless of outcome, getting to know you is important. Give it your best shot and we'll look forward to following up!"
   ],
   "metadata": {}
  },
  {
   "cell_type": "markdown",
   "source": [
    "# Exam Questions"
   ],
   "metadata": {}
  },
  {
   "cell_type": "markdown",
   "source": [
    "## 1. Algo + Data Structures"
   ],
   "metadata": {}
  },
  {
   "cell_type": "markdown",
   "source": [
    "### Q 1.1: Fibionacci\n",
    "![fib image](https://upload.wikimedia.org/wikipedia/commons/thumb/9/93/Fibonacci_spiral_34.svg/200px-Fibonacci_spiral_34.svg.png)"
   ],
   "metadata": {}
  },
  {
   "cell_type": "markdown",
   "source": [
    "#### Q 1.1.1\n",
    "Given $n$ where $n \\in \\mathbb{N}$ (i.e., $n$ is an integer and $n > 0$), write a function `fibonacci(n)` that computes the Fibonacci number $F_n$, where $F_n$ is defined by the recurrence relation:\n",
    "\n",
    "$$ F_n = F_{n-1} + F_{n-2}$$\n",
    "\n",
    "with initial conditions of:\n",
    "\n",
    "$$ F_1 = 1,  F_2 = 1$$"
   ],
   "metadata": {}
  },
  {
   "cell_type": "markdown",
   "source": [
    "#### Q 1.1.2\n",
    "What's the complexity of your implementation?"
   ],
   "metadata": {}
  },
  {
   "cell_type": "markdown",
   "source": [
    "#### Q 1.1.3\n",
    "Consider an alternative implementation to compute Fibonacci number $F_n$ and write a new function, `fibonacci2(n)`."
   ],
   "metadata": {}
  },
  {
   "cell_type": "markdown",
   "source": [
    "#### Q 1.1.4\n",
    "What's the complexity of your implementation?"
   ],
   "metadata": {}
  },
  {
   "cell_type": "markdown",
   "source": [
    "#### Q 1.1.5\n",
    "What are some examples of optimizations that could improve computational performance?\n"
   ],
   "metadata": {}
  },
  {
   "cell_type": "markdown",
   "source": [
    "### Q 1.2: Linked List\n",
    "![ll img](https://upload.wikimedia.org/wikipedia/commons/thumb/6/6d/Singly-linked-list.svg/500px-Singly-linked-list.svg.png)"
   ],
   "metadata": {}
  },
  {
   "cell_type": "markdown",
   "source": [
    "#### Q 1.2.1\n",
    "Consider a [singly linked list](https://en.wikipedia.org/wiki/Linked_list), $L$. Write a function `is_palindrome(L)` that detects if $L$ is a [palindrome](https://en.wikipedia.org/wiki/Palindrome), by returning a bool, `True` or `False`.\n"
   ],
   "metadata": {}
  },
  {
   "cell_type": "code",
   "execution_count": 2,
   "source": [
    "# class Node:\n",
    "#   def __init__(self, val, next):\n",
    "#     self.val = val\n",
    "#     self.next = next\n",
    "\n",
    "def is_palindrome(L) -> bool:\n",
    "  # List to store Linked List elements\n",
    "  L_arr = []\n",
    "\n",
    "  # Traverse Linked List\n",
    "  while L is not None:\n",
    "    L_arr.append(L.val)\n",
    "    L = L.next\n",
    "  \n",
    "  # Single line operation to compare list with its reverse (O(n))\n",
    "  return L_arr == L_arr[::-1]\n",
    "\n"
   ],
   "outputs": [],
   "metadata": {}
  },
  {
   "cell_type": "markdown",
   "source": [
    "#### Q 1.2.2\n",
    "What is the complexity of your implementation?"
   ],
   "metadata": {}
  },
  {
   "cell_type": "markdown",
   "source": [
    "#### Time Complexity: $\\mathcal{O}(n)$\n",
    " * Converting the linked list to a regular list needs traversing through all the elements - $\\mathcal{O}(n)$.\n",
    " * Comparing the new list with its reversed list where reversing the list takes $\\mathcal{O}(n)$ operations again.\n",
    " * Total  - $\\mathcal{O}(2n) \\sim \\mathcal{O}(n)$.\n",
    "\n",
    "#### Space Complexity: $\\mathcal{O}(n)$\n",
    "  * We create a new python list with $n$ elements in it, therefore $\\mathcal{O}(n)$ .\n"
   ],
   "metadata": {}
  },
  {
   "cell_type": "markdown",
   "source": [
    "#### Q 1.2.3\n",
    "Consider an alternative implementation to detect if L is a palindrome and write a new function, `is_palindrome2(L)`."
   ],
   "metadata": {}
  },
  {
   "cell_type": "code",
   "execution_count": 3,
   "source": [
    "def rec_fn(L, head):\n",
    "  # Base case to stop at the last element of linked list using tail pointer L\n",
    "  if L.next is None:\n",
    "    # Compare tail pointer against the head and increment head. Return 1/0 if true/false\n",
    "    if L.val == head.val:\n",
    "      return head.next, 1\n",
    "    else:\n",
    "      return head.next, 0\n",
    "\n",
    "  if L is not None:\n",
    "    head, ans = rec_fn(L.next, head)\n",
    "    # Compare tail pointer against head and increment head. Return 1/0 if true/false\n",
    "    # Tail pointer is decremented from recursion stack\n",
    "    # ans == 1 ensures True is returned only when all the elements are matched.\n",
    "    if L.val == head.val:\n",
    "      ans = ans == 1\n",
    "      return head.next, ans\n",
    "    else:\n",
    "      return head.next, 0\n",
    "\n",
    "# Flow starts here (Recurrence solution)\n",
    "def is_palindrome2(L):\n",
    "  # Head pointer to compare against tail pointer elements\n",
    "  head = L\n",
    "  # Go to the recursion function\n",
    "  head, ans = rec_fn(L, head)\n",
    "  return ans"
   ],
   "outputs": [],
   "metadata": {}
  },
  {
   "cell_type": "markdown",
   "source": [
    "#### Q 1.2.4\n",
    "What's the complexity of this implementation?\n"
   ],
   "metadata": {}
  },
  {
   "cell_type": "markdown",
   "source": [
    "#### Time Complexity: $\\mathcal{O}(n)$\n",
    " * Recursion through the n elements of the linked list - $\\mathcal{O}(n)$.\n",
    " * Total - $\\mathcal{O}(n)$.\n",
    "\n",
    "#### Space Complexity: $\\mathcal{O}(n)$\n",
    "  * The space complexity from the recursion stack is $\\mathcal{O}(n)$ .\n"
   ],
   "metadata": {}
  },
  {
   "cell_type": "markdown",
   "source": [
    "#### Q 1.2.5 \n",
    "What are some examples of optimizations that could improve computational performance?\n"
   ],
   "metadata": {}
  },
  {
   "cell_type": "markdown",
   "source": [
    "##### 1. The space complexity can be further improved to $\\mathcal{O}(1)$ by the following steps: #####\n",
    "  * Split the linked list into first half and second half.\n",
    "  * Reverse the second half of linked list in place.\n",
    "  * Compare first split with second split.\n",
    "\n",
    "\n",
    "  "
   ],
   "metadata": {}
  },
  {
   "cell_type": "code",
   "execution_count": null,
   "source": [
    "# Pseudocode for optimization\n",
    "def is_palindrom(L):\n",
    "  first_half_tail = findFirstHalf(L)\n",
    "  second_half_head = first_half_tail.next\n",
    "  reverse_second_half(second_half_head)\n",
    "  \n",
    "  while second_half_head is not None:\n",
    "    if L.val != second_half_head.val:\n",
    "      return False\n",
    "    L = L.next\n",
    "    second_half_head = second_half_head.next\n",
    "\n",
    "  return True\n",
    "\n",
    "\n",
    "  "
   ],
   "outputs": [],
   "metadata": {}
  },
  {
   "cell_type": "markdown",
   "source": [
    "## 2. Prob + Stats"
   ],
   "metadata": {}
  },
  {
   "cell_type": "markdown",
   "source": [
    "### Q 2.1: Finding $\\pi$ in a random uniform?\n",
    "<img src=https://www.epicurus.com/food/recipes/wp-content/uploads/2015/03/Pi-Day.jpg width=\"480\">\n",
    "\n",
    "Given a uniform random generator $[0,1)$ (e.g., use your language's standard libary to generate random value), write a a function `compute_pi` to compute [$\\pi$](https://en.wikipedia.org/wiki/Pi)."
   ],
   "metadata": {}
  },
  {
   "cell_type": "markdown",
   "source": [
    "### **Explanation** \n",
    "\n",
    "Assume the 2D points generated with uniform distribution lies within a square of side 1 unit. We inscribe a quarter circle (radius=1 unit) inside this square as shown below.\n",
    "\n",
    "<img src=\"./uniform_dist.png\" width=\"280\" height=\"200\">\n",
    "\n",
    "To bring $\\pi$ into the equation, we look into the ratio of area of the quarter-circle to the area of the square enclosing the quarter-circle.\n",
    "$$\n",
    "\\begin{align}\n",
    "\\frac{Area\\;of\\;quarter\\_circle}{Area\\;of\\;square} = \\frac{\\pi r^{2}/4}{r \\times r} = \\frac{\\pi}{4}\n",
    "\\end{align}\n",
    "$$\n",
    "\n",
    "Here, $\\pi$ is our unknown value. The monte-carlo methods tries to estimate the ratio of the two areas using the points from the random numbers generated.\n",
    "\n",
    "Let, \n",
    "$$\n",
    "pts\\;inside\\;quarter\\;circle = k \\\\\n",
    "total\\;pts\\;inside\\;square = N \\\\\n",
    "Area\\;of\\;quarter\\_circle = A_c \\\\\n",
    "Area\\;of\\;square = A_s \\\\\n",
    "$$\n",
    "\n",
    "To further identify if the generated point $i \\in \\mathcal{R}^{2}$ lies inside or outside the quarter-circle, we calculate the distance of the 2D point from the origin. This is used in calculation of $k$.\n",
    "\n",
    "$$\n",
    "k = \\sum_{i=0}^N 1\\;if\\; x^2 + y^2 \\leq 1\\;else\\;0\n",
    "\n",
    "$$\n",
    "\n",
    "Then, \n",
    "$$\n",
    "\\frac{A_c}{A_s} \\approx \\frac{k}{N} \\\\\n",
    "$$\n",
    "\n",
    "From equation (1)\n",
    "$$\n",
    "\\begin{aligned}\n",
    "\\frac{\\pi}{4} & \\approx \\frac{k}{N} \\\\\n",
    "\\pi & \\approx 4 \\times \\frac{k}{N}\n",
    "\\end{aligned}\n",
    "$$\n",
    "\n",
    "The above equation approximates the value of $\\pi$. As $N$ increases, the variance reduces and the equation is able to better approximate the value of $\\pi$. In the program below, $N$ is chosen to be 1 million points.\n"
   ],
   "metadata": {}
  },
  {
   "cell_type": "code",
   "execution_count": 11,
   "source": [
    "import random\n",
    "\n",
    "def compute_pi():\n",
    "  # Generate 2D random number of the defined size\n",
    "  N = 1000000\n",
    "  points_2d = [[random.random() for i in range(2)] for j in range(N)]\n",
    "\n",
    "  # For each point (x, y), calculate x^2 + y^2 and verify if it is inside the quarter circle\n",
    "  # the calculated value should be less than or equal to radius of the circle i.e. 1\n",
    "  # find total points inside quarter circle using this\n",
    "  k = 0\n",
    "  for i in range(len(points_2d)):\n",
    "    dist = points_2d[i][0]**2 + points_2d[i][1]**2\n",
    "    if dist <= 1:\n",
    "      k += 1\n",
    "\n",
    "  # area of quarter-circle/area of square ~ points inside quarter circle/total points\n",
    "  pi = (4 * k)/N\n",
    "  return pi\n",
    "\n",
    "print(compute_pi())"
   ],
   "outputs": [
    {
     "output_type": "stream",
     "name": "stdout",
     "text": [
      "3.141552\n"
     ]
    }
   ],
   "metadata": {}
  },
  {
   "cell_type": "markdown",
   "source": [
    "### Q 2.2: Making a 6-side die roll a 7?\n",
    "\n",
    "Using a single 6-side die, how can you generate a random number between 1 - 7?"
   ],
   "metadata": {}
  },
  {
   "cell_type": "markdown",
   "source": [
    "### Q 2.3: Is normality uniform?\n",
    "\n",
    "<img src=https://rednaxela1618.files.wordpress.com/2014/06/uniformnormal.png width=\"480\">\n",
    "\n",
    "\n",
    "Given draws from a normal distribution with known parameters, how can you simulate draws from a uniform distribution?"
   ],
   "metadata": {}
  },
  {
   "cell_type": "markdown",
   "source": [
    "### Q 2.4: Should you pay or should you go?\n",
    "\n",
    "![coin flip](https://lh5.ggpht.com/iwD6MnHeHVAXNBgrO7r4N9MQxxYi6wT9vb0Mqu905zTnNlBciONAA98BqafyjzC06Q=w300)\n",
    "\n",
    "Let’s say we play a game where I keep flipping a coin until I get heads. If the first time I get heads is on the nth coin, then I pay you $2^{(n-1)}$ US dollars. How much would you pay me to play this game? Explain."
   ],
   "metadata": {}
  },
  {
   "cell_type": "markdown",
   "source": [
    "### Q 2.5: Uber vs. Lyft\n",
    "\n",
    "![uber vs lyft](http://usiaffinity.typepad.com/.a/6a01347fc1cb08970c01bb0876bcbe970d-pi)\n",
    "\n",
    "You request 2 UberX’s and 3 Lyfts. If the time that each takes to reach you is IID, what is the probability that all the Lyfts arrive first? What is the probability that all the UberX’s arrive first?"
   ],
   "metadata": {}
  },
  {
   "cell_type": "markdown",
   "source": [
    "### Q 2.6: Pick your prize\n",
    "<img src=https://miro.medium.com/max/1100/1*m5b3O9sE68UCXjLw5oxy2g.png width=\"480\">\n",
    "\n",
    "A prize is placed at random behind one of three doors and you are asked to pick a door. To be concrete, say you always pick door 1. Now the game host chooses one of door 2 or 3, opens it and shows you that it is empty. They then give you the option to keep your picked door or switch to the unopened door. Should you stay or switch if you want to maximize your probability of winning the prize?"
   ],
   "metadata": {}
  },
  {
   "cell_type": "markdown",
   "source": [
    "## 3 Conceptual ML"
   ],
   "metadata": {}
  },
  {
   "cell_type": "markdown",
   "source": [
    "### Q 3.1 Why study gradient boosting or neural networks?\n",
    "\n",
    "Consider a regression setting where $X \\in \\mathbb{R}^p$ and $Y \\in \\mathbb{R}$. The goal is to come up with a function $f(X): \\mathbb{R}^p \\rightarrow \\mathbb{R}$ that minimizes the squared-error loss $(Y - f(X))^2$. Since X, Y are random variables, we seek to minimize the expectation of the squared error loss as follows\n",
    "\\begin{equation}\n",
    "EPE(f) = \\mathbb{E}\\left[(Y-f(X)^2\\right]\n",
    "\\end{equation}\n",
    "where EPE stands for expected prediction error. One can show that minimizing the expected prediction error leads to the following _regression function_\n",
    "\\begin{equation}\n",
    "f(x) = \\mathbb{E}\\left[Y|X=x\\right]\n",
    "\\end{equation}\n",
    "\n",
    "The goal of any method is to approximate the regression function above, which we denote as $\\hat{f}(x)$. For example, linear regression explicitly assumes that the regression function is approximately linear in its arguments, i.e. $\\hat{f}(x) = x^T\\beta$ while a neural network provides a nonlinear approximation of the regression function. \n",
    "\n",
    "The simplest of all these methods is [k-nearest neighbors](https://en.wikipedia.org/wiki/K-nearest_neighbors_algorithm). Given $x$ and some neighbourhood of $k$ points $N_k(x)$, $\\hat{f}(x)$ is simply the average of all $y_i|x_i \\in N_k(x)$.  Let $N$ denote the training sample size. Under mild regularity conditions on the joint probability distribution $Pr(X, Y)$, one can show that as $N \\rightarrow \\infty$, $k \\rightarrow \\infty$ such that $k/N \\rightarrow 0$, then $\\hat{f}(x) \\rightarrow f(x)$ where $\\rightarrow$ means approaches or goes to. In other words, the k-nearest neighbors algorithm converges to the ideal solution as both the training sample size and number of neighbors increase to infinity.\n",
    "\n",
    "Now given this _universal approximator_, why look any further and research other methods? Please share your thoughts.\n"
   ],
   "metadata": {}
  },
  {
   "cell_type": "markdown",
   "source": [
    "#### Solution\n",
    "The above mentioned universal approximator has a strong theoretical foundation which makes implicit assumptions regarding training size $N$ and the dimensionality $p$. Practical implementation of these assumptions are not feasible as the problem being solved gets more complicated. \n",
    "\n",
    "For example, the k-nearest neighbors algorithm is conditioned on a region and therefore, the output is always constant over that region. This leads to the fact that as $k$ grows in size, the algorithm becomes more stables. More specifically, as $N \\rightarrow \\infty$ and $k \\rightarrow \\infty, \\hat{f}(x) \\rightarrow \\mathbb{E}[Y|X=x]$. In the real world, $N$ never reaches infinity and subsequently, $k$ cannot reach infinity. Coming up with large dataset for a complex problem (e.g. Video segmentation) is a infeasible. \n",
    "\n",
    "Additionally, as the dimension $p$ of the input grows in size, the data tends to be highly sparse. The notion that the points are geometrically close to each other belongs to the same probability distribution becomes invalid. Accordingly, the neighbors of a particular data point will be farther as compared to the lower dimensional counterpart. In this sense, the volume covered by the $k$ neighbors becomes very large to the extent that a small $k$ tend to cover the entire data space. \n",
    "\n",
    "The globally linear nature of linear regression functions and the additive modelling of these functions are another example of unrealistic assumptions that are used to tackle the dimensionality curse. Neural networks in general are shown to be universal approximator of any functions. It resolves the linearity assumption by including non-linear functionalities in its modelling such as sigmoid. Moreover, NNs have been shown to be successful in identifying low dimensional features that are generally not apparent in high dimensional space. \n"
   ],
   "metadata": {}
  },
  {
   "cell_type": "markdown",
   "source": [
    "### Q 3.2 Model Selection and Assesment\n",
    "\n",
    "Consider a multiclass classification problem with a large number of features $p >> N$, for e.g $p=10000, N=100$ The task is threefold\n",
    "1. Find a \"good\" subset of features that show strong _univariate_ correlation with class labels\n",
    "2. Using the \"good\" subset, build a multi class classifier\n",
    "3. Estimate the generalization error of the final model\n",
    "\n",
    "Given this dataset, outline your approach and please be sure to cover the following\n",
    "- Data splitting\n",
    "- Model Selection: either estimating the performance of different classifiers or the same classifier with different hyperparameters\n",
    "- Model Assessment: having chosen a classifier, estimating the generalization error\n",
    "\n",
    "Assume all features are numerical, the dataset contains no NULLS, outliers, etc. and doesn't require any preprocessing.\n",
    "\n"
   ],
   "metadata": {}
  }
 ],
 "metadata": {
  "kernelspec": {
   "name": "python3",
   "display_name": "Python 3.8.2 64-bit"
  },
  "language_info": {
   "codemirror_mode": {
    "name": "ipython",
    "version": 3
   },
   "file_extension": ".py",
   "mimetype": "text/x-python",
   "name": "python",
   "nbconvert_exporter": "python",
   "pygments_lexer": "ipython3",
   "version": "3.8.2"
  },
  "interpreter": {
   "hash": "31f2aee4e71d21fbe5cf8b01ff0e069b9275f58929596ceb00d14d90e3e16cd6"
  }
 },
 "nbformat": 4,
 "nbformat_minor": 2
}